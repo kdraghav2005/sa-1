{
 "cells": [
  {
   "cell_type": "code",
   "execution_count": 1,
   "id": "9441adcf",
   "metadata": {
    "_cell_guid": "b1076dfc-b9ad-4769-8c92-a6c4dae69d19",
    "_uuid": "8f2839f25d086af736a60e9eeb907d3b93b6e0e5",
    "execution": {
     "iopub.execute_input": "2024-06-17T14:43:38.089474Z",
     "iopub.status.busy": "2024-06-17T14:43:38.089021Z",
     "iopub.status.idle": "2024-06-17T14:43:40.855538Z",
     "shell.execute_reply": "2024-06-17T14:43:40.854375Z"
    },
    "papermill": {
     "duration": 2.77823,
     "end_time": "2024-06-17T14:43:40.858371",
     "exception": false,
     "start_time": "2024-06-17T14:43:38.080141",
     "status": "completed"
    },
    "tags": []
   },
   "outputs": [],
   "source": [
    "import pandas as pd\n",
    "from sklearn.model_selection import train_test_split, cross_val_score\n",
    "from sklearn.naive_bayes import GaussianNB\n",
    "from sklearn.multioutput import MultiOutputClassifier\n",
    "from sklearn.metrics import roc_auc_score\n",
    "from sklearn.preprocessing import StandardScaler, OneHotEncoder\n",
    "from sklearn.compose import ColumnTransformer\n",
    "from sklearn.pipeline import Pipeline\n",
    "from sklearn.impute import SimpleImputer"
   ]
  },
  {
   "cell_type": "code",
   "execution_count": 2,
   "id": "20419d4c",
   "metadata": {
    "execution": {
     "iopub.execute_input": "2024-06-17T14:43:40.874172Z",
     "iopub.status.busy": "2024-06-17T14:43:40.873562Z",
     "iopub.status.idle": "2024-06-17T14:43:41.310798Z",
     "shell.execute_reply": "2024-06-17T14:43:41.309685Z"
    },
    "papermill": {
     "duration": 0.448259,
     "end_time": "2024-06-17T14:43:41.313656",
     "exception": false,
     "start_time": "2024-06-17T14:43:40.865397",
     "status": "completed"
    },
    "tags": []
   },
   "outputs": [],
   "source": [
    "# Load datasets\n",
    "train_features = pd.read_csv('/kaggle/input/mydataset/training_set_features.csv')\n",
    "train_labels = pd.read_csv('/kaggle/input/mydataset/training_set_labels.csv')\n",
    "test_features = pd.read_csv('/kaggle/input/mydataset/test_set_features.csv')"
   ]
  },
  {
   "cell_type": "code",
   "execution_count": 3,
   "id": "e20e5ece",
   "metadata": {
    "execution": {
     "iopub.execute_input": "2024-06-17T14:43:41.328713Z",
     "iopub.status.busy": "2024-06-17T14:43:41.328339Z",
     "iopub.status.idle": "2024-06-17T14:43:41.356878Z",
     "shell.execute_reply": "2024-06-17T14:43:41.355846Z"
    },
    "papermill": {
     "duration": 0.039354,
     "end_time": "2024-06-17T14:43:41.359732",
     "exception": false,
     "start_time": "2024-06-17T14:43:41.320378",
     "status": "completed"
    },
    "tags": []
   },
   "outputs": [],
   "source": [
    "# Drop respondent_id columns\n",
    "train_features = train_features.drop(columns=['respondent_id'])\n",
    "test_features_ids = test_features['respondent_id']\n",
    "test_features = test_features.drop(columns=['respondent_id'])"
   ]
  },
  {
   "cell_type": "code",
   "execution_count": 4,
   "id": "e59997fd",
   "metadata": {
    "execution": {
     "iopub.execute_input": "2024-06-17T14:43:41.374776Z",
     "iopub.status.busy": "2024-06-17T14:43:41.374398Z",
     "iopub.status.idle": "2024-06-17T14:43:41.386396Z",
     "shell.execute_reply": "2024-06-17T14:43:41.385117Z"
    },
    "papermill": {
     "duration": 0.022577,
     "end_time": "2024-06-17T14:43:41.388979",
     "exception": false,
     "start_time": "2024-06-17T14:43:41.366402",
     "status": "completed"
    },
    "tags": []
   },
   "outputs": [
    {
     "name": "stdout",
     "output_type": "stream",
     "text": [
      "Index(['age_group', 'education', 'race', 'sex', 'income_poverty',\n",
      "       'marital_status', 'rent_or_own', 'employment_status', 'hhs_geo_region',\n",
      "       'census_msa', 'employment_industry', 'employment_occupation'],\n",
      "      dtype='object')\n",
      "Index(['xyz_concern', 'xyz_knowledge', 'behavioral_antiviral_meds',\n",
      "       'behavioral_avoidance', 'behavioral_face_mask', 'behavioral_wash_hands',\n",
      "       'behavioral_large_gatherings', 'behavioral_outside_home',\n",
      "       'behavioral_touch_face', 'doctor_recc_xyz', 'doctor_recc_seasonal',\n",
      "       'chronic_med_condition', 'child_under_6_months', 'health_worker',\n",
      "       'health_insurance', 'opinion_xyz_vacc_effective', 'opinion_xyz_risk',\n",
      "       'opinion_xyz_sick_from_vacc', 'opinion_seas_vacc_effective',\n",
      "       'opinion_seas_risk', 'opinion_seas_sick_from_vacc', 'household_adults',\n",
      "       'household_children'],\n",
      "      dtype='object')\n"
     ]
    }
   ],
   "source": [
    "# Identify categorical and numerical columns\n",
    "categorical_cols = train_features.select_dtypes(include=['object']).columns\n",
    "numerical_cols = train_features.select_dtypes(include=['number']).columns\n",
    "print(categorical_cols)\n",
    "print(numerical_cols)"
   ]
  },
  {
   "cell_type": "code",
   "execution_count": 5,
   "id": "1526328f",
   "metadata": {
    "execution": {
     "iopub.execute_input": "2024-06-17T14:43:41.404868Z",
     "iopub.status.busy": "2024-06-17T14:43:41.403859Z",
     "iopub.status.idle": "2024-06-17T14:43:41.700757Z",
     "shell.execute_reply": "2024-06-17T14:43:41.699659Z"
    },
    "papermill": {
     "duration": 0.307796,
     "end_time": "2024-06-17T14:43:41.703551",
     "exception": false,
     "start_time": "2024-06-17T14:43:41.395755",
     "status": "completed"
    },
    "tags": []
   },
   "outputs": [],
   "source": [
    "# Basic Preprocessing\n",
    "\n",
    "# Handle missing values\n",
    "imputer_num = SimpleImputer(strategy='median')\n",
    "imputer_cat = SimpleImputer(strategy='most_frequent')\n",
    "\n",
    "train_features[numerical_cols] = imputer_num.fit_transform(train_features[numerical_cols])\n",
    "test_features[numerical_cols] = imputer_num.transform(test_features[numerical_cols])\n",
    "\n",
    "train_features[categorical_cols] = imputer_cat.fit_transform(train_features[categorical_cols])\n",
    "test_features[categorical_cols] = imputer_cat.transform(test_features[categorical_cols])"
   ]
  },
  {
   "cell_type": "code",
   "execution_count": 6,
   "id": "7f3dbe31",
   "metadata": {
    "execution": {
     "iopub.execute_input": "2024-06-17T14:43:41.719431Z",
     "iopub.status.busy": "2024-06-17T14:43:41.719018Z",
     "iopub.status.idle": "2024-06-17T14:43:42.095377Z",
     "shell.execute_reply": "2024-06-17T14:43:42.094128Z"
    },
    "papermill": {
     "duration": 0.387522,
     "end_time": "2024-06-17T14:43:42.098332",
     "exception": false,
     "start_time": "2024-06-17T14:43:41.710810",
     "status": "completed"
    },
    "tags": []
   },
   "outputs": [
    {
     "name": "stderr",
     "output_type": "stream",
     "text": [
      "/opt/conda/lib/python3.10/site-packages/sklearn/preprocessing/_encoders.py:868: FutureWarning: `sparse` was renamed to `sparse_output` in version 1.2 and will be removed in 1.4. `sparse_output` is ignored unless you leave `sparse` to its default value.\n",
      "  warnings.warn(\n"
     ]
    }
   ],
   "source": [
    "# Encode categorical features\n",
    "encoder = OneHotEncoder(handle_unknown='ignore', sparse=False)\n",
    "\n",
    "# One-hot encoding\n",
    "train_features_encoded = pd.DataFrame(\n",
    "    encoder.fit_transform(train_features[categorical_cols]),\n",
    "    columns=encoder.get_feature_names_out(categorical_cols)\n",
    ")\n",
    "\n",
    "test_features_encoded = pd.DataFrame(\n",
    "    encoder.transform(test_features[categorical_cols]),\n",
    "    columns=encoder.get_feature_names_out(categorical_cols)\n",
    ")\n",
    "\n",
    "# Drop original categorical columns and concatenate the encoded columns\n",
    "train_features = train_features.drop(columns=categorical_cols)\n",
    "test_features = test_features.drop(columns=categorical_cols)\n",
    "\n",
    "train_features = pd.concat([train_features.reset_index(drop=True), train_features_encoded], axis=1)\n",
    "test_features = pd.concat([test_features.reset_index(drop=True), test_features_encoded], axis=1)"
   ]
  },
  {
   "cell_type": "code",
   "execution_count": 7,
   "id": "9ce728b3",
   "metadata": {
    "execution": {
     "iopub.execute_input": "2024-06-17T14:43:42.113869Z",
     "iopub.status.busy": "2024-06-17T14:43:42.113464Z",
     "iopub.status.idle": "2024-06-17T14:43:42.148522Z",
     "shell.execute_reply": "2024-06-17T14:43:42.147048Z"
    },
    "papermill": {
     "duration": 0.046088,
     "end_time": "2024-06-17T14:43:42.151284",
     "exception": false,
     "start_time": "2024-06-17T14:43:42.105196",
     "status": "completed"
    },
    "tags": []
   },
   "outputs": [],
   "source": [
    "# Scale numerical features\n",
    "scaler = StandardScaler()\n",
    "train_features[numerical_cols] = scaler.fit_transform(train_features[numerical_cols])\n",
    "test_features[numerical_cols] = scaler.transform(test_features[numerical_cols])"
   ]
  },
  {
   "cell_type": "code",
   "execution_count": 8,
   "id": "5fe5e238",
   "metadata": {
    "execution": {
     "iopub.execute_input": "2024-06-17T14:43:42.169190Z",
     "iopub.status.busy": "2024-06-17T14:43:42.168729Z",
     "iopub.status.idle": "2024-06-17T14:43:42.202015Z",
     "shell.execute_reply": "2024-06-17T14:43:42.200812Z"
    },
    "papermill": {
     "duration": 0.044978,
     "end_time": "2024-06-17T14:43:42.204954",
     "exception": false,
     "start_time": "2024-06-17T14:43:42.159976",
     "status": "completed"
    },
    "tags": []
   },
   "outputs": [],
   "source": [
    "# Split data into train and validation sets\n",
    "X_train, X_valid, y_train, y_valid = train_test_split(train_features, train_labels, test_size=0.2, random_state=42)"
   ]
  },
  {
   "cell_type": "code",
   "execution_count": 9,
   "id": "577a16d7",
   "metadata": {
    "execution": {
     "iopub.execute_input": "2024-06-17T14:43:42.220605Z",
     "iopub.status.busy": "2024-06-17T14:43:42.220212Z",
     "iopub.status.idle": "2024-06-17T14:43:42.225657Z",
     "shell.execute_reply": "2024-06-17T14:43:42.224353Z"
    },
    "papermill": {
     "duration": 0.016553,
     "end_time": "2024-06-17T14:43:42.228398",
     "exception": false,
     "start_time": "2024-06-17T14:43:42.211845",
     "status": "completed"
    },
    "tags": []
   },
   "outputs": [],
   "source": [
    "# Define the model\n",
    "gnb = GaussianNB()\n",
    "multilabel_model = MultiOutputClassifier(gnb)"
   ]
  },
  {
   "cell_type": "code",
   "execution_count": 10,
   "id": "67676e00",
   "metadata": {
    "execution": {
     "iopub.execute_input": "2024-06-17T14:43:42.244283Z",
     "iopub.status.busy": "2024-06-17T14:43:42.243862Z",
     "iopub.status.idle": "2024-06-17T14:43:45.407217Z",
     "shell.execute_reply": "2024-06-17T14:43:45.405967Z"
    },
    "papermill": {
     "duration": 3.174336,
     "end_time": "2024-06-17T14:43:45.409866",
     "exception": false,
     "start_time": "2024-06-17T14:43:42.235530",
     "status": "completed"
    },
    "tags": []
   },
   "outputs": [
    {
     "data": {
      "text/html": [
       "<style>#sk-container-id-1 {color: black;background-color: white;}#sk-container-id-1 pre{padding: 0;}#sk-container-id-1 div.sk-toggleable {background-color: white;}#sk-container-id-1 label.sk-toggleable__label {cursor: pointer;display: block;width: 100%;margin-bottom: 0;padding: 0.3em;box-sizing: border-box;text-align: center;}#sk-container-id-1 label.sk-toggleable__label-arrow:before {content: \"▸\";float: left;margin-right: 0.25em;color: #696969;}#sk-container-id-1 label.sk-toggleable__label-arrow:hover:before {color: black;}#sk-container-id-1 div.sk-estimator:hover label.sk-toggleable__label-arrow:before {color: black;}#sk-container-id-1 div.sk-toggleable__content {max-height: 0;max-width: 0;overflow: hidden;text-align: left;background-color: #f0f8ff;}#sk-container-id-1 div.sk-toggleable__content pre {margin: 0.2em;color: black;border-radius: 0.25em;background-color: #f0f8ff;}#sk-container-id-1 input.sk-toggleable__control:checked~div.sk-toggleable__content {max-height: 200px;max-width: 100%;overflow: auto;}#sk-container-id-1 input.sk-toggleable__control:checked~label.sk-toggleable__label-arrow:before {content: \"▾\";}#sk-container-id-1 div.sk-estimator input.sk-toggleable__control:checked~label.sk-toggleable__label {background-color: #d4ebff;}#sk-container-id-1 div.sk-label input.sk-toggleable__control:checked~label.sk-toggleable__label {background-color: #d4ebff;}#sk-container-id-1 input.sk-hidden--visually {border: 0;clip: rect(1px 1px 1px 1px);clip: rect(1px, 1px, 1px, 1px);height: 1px;margin: -1px;overflow: hidden;padding: 0;position: absolute;width: 1px;}#sk-container-id-1 div.sk-estimator {font-family: monospace;background-color: #f0f8ff;border: 1px dotted black;border-radius: 0.25em;box-sizing: border-box;margin-bottom: 0.5em;}#sk-container-id-1 div.sk-estimator:hover {background-color: #d4ebff;}#sk-container-id-1 div.sk-parallel-item::after {content: \"\";width: 100%;border-bottom: 1px solid gray;flex-grow: 1;}#sk-container-id-1 div.sk-label:hover label.sk-toggleable__label {background-color: #d4ebff;}#sk-container-id-1 div.sk-serial::before {content: \"\";position: absolute;border-left: 1px solid gray;box-sizing: border-box;top: 0;bottom: 0;left: 50%;z-index: 0;}#sk-container-id-1 div.sk-serial {display: flex;flex-direction: column;align-items: center;background-color: white;padding-right: 0.2em;padding-left: 0.2em;position: relative;}#sk-container-id-1 div.sk-item {position: relative;z-index: 1;}#sk-container-id-1 div.sk-parallel {display: flex;align-items: stretch;justify-content: center;background-color: white;position: relative;}#sk-container-id-1 div.sk-item::before, #sk-container-id-1 div.sk-parallel-item::before {content: \"\";position: absolute;border-left: 1px solid gray;box-sizing: border-box;top: 0;bottom: 0;left: 50%;z-index: -1;}#sk-container-id-1 div.sk-parallel-item {display: flex;flex-direction: column;z-index: 1;position: relative;background-color: white;}#sk-container-id-1 div.sk-parallel-item:first-child::after {align-self: flex-end;width: 50%;}#sk-container-id-1 div.sk-parallel-item:last-child::after {align-self: flex-start;width: 50%;}#sk-container-id-1 div.sk-parallel-item:only-child::after {width: 0;}#sk-container-id-1 div.sk-dashed-wrapped {border: 1px dashed gray;margin: 0 0.4em 0.5em 0.4em;box-sizing: border-box;padding-bottom: 0.4em;background-color: white;}#sk-container-id-1 div.sk-label label {font-family: monospace;font-weight: bold;display: inline-block;line-height: 1.2em;}#sk-container-id-1 div.sk-label-container {text-align: center;}#sk-container-id-1 div.sk-container {/* jupyter's `normalize.less` sets `[hidden] { display: none; }` but bootstrap.min.css set `[hidden] { display: none !important; }` so we also need the `!important` here to be able to override the default hidden behavior on the sphinx rendered scikit-learn.org. See: https://github.com/scikit-learn/scikit-learn/issues/21755 */display: inline-block !important;position: relative;}#sk-container-id-1 div.sk-text-repr-fallback {display: none;}</style><div id=\"sk-container-id-1\" class=\"sk-top-container\"><div class=\"sk-text-repr-fallback\"><pre>MultiOutputClassifier(estimator=GaussianNB())</pre><b>In a Jupyter environment, please rerun this cell to show the HTML representation or trust the notebook. <br />On GitHub, the HTML representation is unable to render, please try loading this page with nbviewer.org.</b></div><div class=\"sk-container\" hidden><div class=\"sk-item sk-dashed-wrapped\"><div class=\"sk-label-container\"><div class=\"sk-label sk-toggleable\"><input class=\"sk-toggleable__control sk-hidden--visually\" id=\"sk-estimator-id-1\" type=\"checkbox\" ><label for=\"sk-estimator-id-1\" class=\"sk-toggleable__label sk-toggleable__label-arrow\">MultiOutputClassifier</label><div class=\"sk-toggleable__content\"><pre>MultiOutputClassifier(estimator=GaussianNB())</pre></div></div></div><div class=\"sk-parallel\"><div class=\"sk-parallel-item\"><div class=\"sk-item\"><div class=\"sk-label-container\"><div class=\"sk-label sk-toggleable\"><input class=\"sk-toggleable__control sk-hidden--visually\" id=\"sk-estimator-id-2\" type=\"checkbox\" ><label for=\"sk-estimator-id-2\" class=\"sk-toggleable__label sk-toggleable__label-arrow\">estimator: GaussianNB</label><div class=\"sk-toggleable__content\"><pre>GaussianNB()</pre></div></div></div><div class=\"sk-serial\"><div class=\"sk-item\"><div class=\"sk-estimator sk-toggleable\"><input class=\"sk-toggleable__control sk-hidden--visually\" id=\"sk-estimator-id-3\" type=\"checkbox\" ><label for=\"sk-estimator-id-3\" class=\"sk-toggleable__label sk-toggleable__label-arrow\">GaussianNB</label><div class=\"sk-toggleable__content\"><pre>GaussianNB()</pre></div></div></div></div></div></div></div></div></div></div>"
      ],
      "text/plain": [
       "MultiOutputClassifier(estimator=GaussianNB())"
      ]
     },
     "execution_count": 10,
     "metadata": {},
     "output_type": "execute_result"
    }
   ],
   "source": [
    "# Train the model\n",
    "multilabel_model.fit(X_train, y_train)"
   ]
  },
  {
   "cell_type": "code",
   "execution_count": 11,
   "id": "c51df0ab",
   "metadata": {
    "execution": {
     "iopub.execute_input": "2024-06-17T14:43:45.426259Z",
     "iopub.status.busy": "2024-06-17T14:43:45.425825Z",
     "iopub.status.idle": "2024-06-17T14:44:49.851736Z",
     "shell.execute_reply": "2024-06-17T14:44:49.850343Z"
    },
    "papermill": {
     "duration": 64.437736,
     "end_time": "2024-06-17T14:44:49.854975",
     "exception": false,
     "start_time": "2024-06-17T14:43:45.417239",
     "status": "completed"
    },
    "tags": []
   },
   "outputs": [],
   "source": [
    "# Predict probabilities on the validation set\n",
    "y_valid_pred_proba = multilabel_model.predict_proba(X_valid)"
   ]
  },
  {
   "cell_type": "code",
   "execution_count": 12,
   "id": "a9eb8451",
   "metadata": {
    "execution": {
     "iopub.execute_input": "2024-06-17T14:44:49.872168Z",
     "iopub.status.busy": "2024-06-17T14:44:49.871732Z",
     "iopub.status.idle": "2024-06-17T14:44:49.879361Z",
     "shell.execute_reply": "2024-06-17T14:44:49.877896Z"
    },
    "papermill": {
     "duration": 0.019632,
     "end_time": "2024-06-17T14:44:49.882009",
     "exception": false,
     "start_time": "2024-06-17T14:44:49.862377",
     "status": "completed"
    },
    "tags": []
   },
   "outputs": [
    {
     "name": "stdout",
     "output_type": "stream",
     "text": [
      "[array([[0., 0., 0., ..., 0., 0., 0.],\n",
      "       [0., 0., 0., ..., 0., 0., 0.],\n",
      "       [0., 0., 0., ..., 0., 0., 0.],\n",
      "       ...,\n",
      "       [0., 0., 0., ..., 0., 0., 0.],\n",
      "       [0., 0., 0., ..., 0., 0., 0.],\n",
      "       [0., 0., 0., ..., 0., 0., 0.]]), array([[2.01244945e-02, 9.79875505e-01],\n",
      "       [7.35984970e-02, 9.26401503e-01],\n",
      "       [9.99915142e-01, 8.48580274e-05],\n",
      "       ...,\n",
      "       [1.00000000e+00, 4.89835604e-10],\n",
      "       [1.00000000e+00, 1.01459098e-31],\n",
      "       [1.00000000e+00, 8.16030964e-15]]), array([[1.54912003e-04, 9.99845088e-01],\n",
      "       [7.90038428e-04, 9.99209962e-01],\n",
      "       [1.21048217e-03, 9.98789518e-01],\n",
      "       ...,\n",
      "       [9.99997559e-01, 2.44124817e-06],\n",
      "       [1.00000000e+00, 8.59105237e-20],\n",
      "       [1.00000000e+00, 7.25457925e-13]])]\n"
     ]
    }
   ],
   "source": [
    "print(y_valid_pred_proba)"
   ]
  },
  {
   "cell_type": "code",
   "execution_count": 13,
   "id": "ad4c5bfc",
   "metadata": {
    "execution": {
     "iopub.execute_input": "2024-06-17T14:44:49.899307Z",
     "iopub.status.busy": "2024-06-17T14:44:49.898831Z",
     "iopub.status.idle": "2024-06-17T14:44:49.908038Z",
     "shell.execute_reply": "2024-06-17T14:44:49.906504Z"
    },
    "papermill": {
     "duration": 0.021941,
     "end_time": "2024-06-17T14:44:49.911357",
     "exception": false,
     "start_time": "2024-06-17T14:44:49.889416",
     "status": "completed"
    },
    "tags": []
   },
   "outputs": [
    {
     "name": "stdout",
     "output_type": "stream",
     "text": [
      "[0. 0. 0. ... 0. 0. 0.]\n",
      "[9.79875505e-01 9.26401503e-01 8.48580274e-05 ... 4.89835604e-10\n",
      " 1.01459098e-31 8.16030964e-15]\n"
     ]
    }
   ],
   "source": [
    "# Extract probabilities for each label\n",
    "y_valid_pred_proba_xyz = y_valid_pred_proba[0][:, 1]\n",
    "y_valid_pred_proba_seasonal = y_valid_pred_proba[1][:, 1]\n",
    "print(y_valid_pred_proba_xyz)\n",
    "print(y_valid_pred_proba_seasonal)"
   ]
  },
  {
   "cell_type": "code",
   "execution_count": 14,
   "id": "d2bce806",
   "metadata": {
    "execution": {
     "iopub.execute_input": "2024-06-17T14:44:49.928819Z",
     "iopub.status.busy": "2024-06-17T14:44:49.928432Z",
     "iopub.status.idle": "2024-06-17T14:44:49.946672Z",
     "shell.execute_reply": "2024-06-17T14:44:49.945082Z"
    },
    "papermill": {
     "duration": 0.030187,
     "end_time": "2024-06-17T14:44:49.949443",
     "exception": false,
     "start_time": "2024-06-17T14:44:49.919256",
     "status": "completed"
    },
    "tags": []
   },
   "outputs": [
    {
     "name": "stdout",
     "output_type": "stream",
     "text": [
      "ROC AUC score for XYZ vaccine: 0.5\n",
      "ROC AUC score for Seasonal vaccine: 0.7058448672500555\n"
     ]
    }
   ],
   "source": [
    "# Compute ROC AUC scores for each label\n",
    "roc_auc_xyz = roc_auc_score(y_valid['xyz_vaccine'], y_valid_pred_proba_xyz)\n",
    "roc_auc_seasonal = roc_auc_score(y_valid['seasonal_vaccine'], y_valid_pred_proba_seasonal)\n",
    "\n",
    "print(f'ROC AUC score for XYZ vaccine: {roc_auc_xyz}')\n",
    "print(f'ROC AUC score for Seasonal vaccine: {roc_auc_seasonal}')\n"
   ]
  },
  {
   "cell_type": "code",
   "execution_count": 15,
   "id": "f7767838",
   "metadata": {
    "execution": {
     "iopub.execute_input": "2024-06-17T14:44:49.967668Z",
     "iopub.status.busy": "2024-06-17T14:44:49.967271Z",
     "iopub.status.idle": "2024-06-17T14:44:49.974139Z",
     "shell.execute_reply": "2024-06-17T14:44:49.972586Z"
    },
    "papermill": {
     "duration": 0.020365,
     "end_time": "2024-06-17T14:44:49.977389",
     "exception": false,
     "start_time": "2024-06-17T14:44:49.957024",
     "status": "completed"
    },
    "tags": []
   },
   "outputs": [
    {
     "name": "stdout",
     "output_type": "stream",
     "text": [
      "Average ROC AUC score: 0.6029224336250277\n"
     ]
    }
   ],
   "source": [
    "# Average ROC AUC score\n",
    "average_roc_auc = (roc_auc_xyz + roc_auc_seasonal) / 2\n",
    "print(f'Average ROC AUC score: {average_roc_auc}')"
   ]
  },
  {
   "cell_type": "code",
   "execution_count": 16,
   "id": "d56c6e32",
   "metadata": {
    "execution": {
     "iopub.execute_input": "2024-06-17T14:44:49.995457Z",
     "iopub.status.busy": "2024-06-17T14:44:49.994974Z",
     "iopub.status.idle": "2024-06-17T14:52:13.761933Z",
     "shell.execute_reply": "2024-06-17T14:52:13.760284Z"
    },
    "papermill": {
     "duration": 443.783692,
     "end_time": "2024-06-17T14:52:13.769151",
     "exception": false,
     "start_time": "2024-06-17T14:44:49.985459",
     "status": "completed"
    },
    "tags": []
   },
   "outputs": [],
   "source": [
    "# Predict on test set\n",
    "test_pred_proba = multilabel_model.predict_proba(test_features)\n",
    "\n",
    "# Extract probabilities\n",
    "test_pred_proba_xyz = test_pred_proba[0][:, 1]\n",
    "test_pred_proba_seasonal = test_pred_proba[1][:, 1]\n"
   ]
  },
  {
   "cell_type": "code",
   "execution_count": 17,
   "id": "929e6571",
   "metadata": {
    "execution": {
     "iopub.execute_input": "2024-06-17T14:52:13.791178Z",
     "iopub.status.busy": "2024-06-17T14:52:13.790719Z",
     "iopub.status.idle": "2024-06-17T14:52:13.926340Z",
     "shell.execute_reply": "2024-06-17T14:52:13.924806Z"
    },
    "papermill": {
     "duration": 0.148567,
     "end_time": "2024-06-17T14:52:13.929589",
     "exception": false,
     "start_time": "2024-06-17T14:52:13.781022",
     "status": "completed"
    },
    "tags": []
   },
   "outputs": [],
   "source": [
    "# Create submission dataframe\n",
    "submission = pd.DataFrame({\n",
    "    'respondent_id': test_features_ids,\n",
    "    'xyz_vaccine': test_pred_proba_xyz,\n",
    "    'seasonal_vaccine': test_pred_proba_seasonal\n",
    "})\n",
    "\n",
    "# Save to CSV\n",
    "submission.to_csv('sub1.csv', index=False)"
   ]
  },
  {
   "cell_type": "code",
   "execution_count": null,
   "id": "36a19348",
   "metadata": {
    "papermill": {
     "duration": 0.007973,
     "end_time": "2024-06-17T14:52:13.946475",
     "exception": false,
     "start_time": "2024-06-17T14:52:13.938502",
     "status": "completed"
    },
    "tags": []
   },
   "outputs": [],
   "source": []
  }
 ],
 "metadata": {
  "kaggle": {
   "accelerator": "none",
   "dataSources": [
    {
     "datasetId": 5227102,
     "sourceId": 8712948,
     "sourceType": "datasetVersion"
    }
   ],
   "dockerImageVersionId": 30732,
   "isGpuEnabled": false,
   "isInternetEnabled": true,
   "language": "python",
   "sourceType": "notebook"
  },
  "kernelspec": {
   "display_name": "Python 3",
   "language": "python",
   "name": "python3"
  },
  "language_info": {
   "codemirror_mode": {
    "name": "ipython",
    "version": 3
   },
   "file_extension": ".py",
   "mimetype": "text/x-python",
   "name": "python",
   "nbconvert_exporter": "python",
   "pygments_lexer": "ipython3",
   "version": "3.10.13"
  },
  "papermill": {
   "default_parameters": {},
   "duration": 519.966065,
   "end_time": "2024-06-17T14:52:14.784162",
   "environment_variables": {},
   "exception": null,
   "input_path": "__notebook__.ipynb",
   "output_path": "__notebook__.ipynb",
   "parameters": {},
   "start_time": "2024-06-17T14:43:34.818097",
   "version": "2.5.0"
  }
 },
 "nbformat": 4,
 "nbformat_minor": 5
}
